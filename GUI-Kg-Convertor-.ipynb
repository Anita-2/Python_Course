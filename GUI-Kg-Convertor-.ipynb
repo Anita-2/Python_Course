{
 "cells": [
  {
   "cell_type": "markdown",
   "metadata": {},
   "source": [
    "# Creating GUI Application for Converting Kilograms into grams, pounds,ounce,tons and centigrams\n"
   ]
  },
  {
   "cell_type": "code",
   "execution_count": 1,
   "metadata": {},
   "outputs": [],
   "source": [
    "#We will use python Tkinter standard library for creating GUI\n",
    "#Steps:\n",
    "   # 1.import Tkinter module.\n",
    "   # 2. Create Main Application Window\n",
    "   # 3. Add the different widgets like, lables, buttons, buttons,textboxes etc.\n",
    "   # 4. Call the main event loop so that action can take place on users screen."
   ]
  },
  {
   "cell_type": "code",
   "execution_count": 25,
   "metadata": {},
   "outputs": [],
   "source": [
    "#formula to convert:\n",
    "#pound = kilograms × 2.204623\n",
    "#ounce = kilograms × 35.273962\n",
    "#gram = kilograms × 1,000\n",
    "#tonn= kilograms × 0.001\n",
    "#cg = kilograms × 1,00000"
   ]
  },
  {
   "cell_type": "code",
   "execution_count": 1,
   "metadata": {},
   "outputs": [],
   "source": [
    "from tkinter import *\n",
    "w=Tk()    #main window creation\n",
    "w.title(\"Convertor\")\n",
    "def Convert_kg_to():       #defining function\n",
    "    grm=float(l1_value.get())*1000\n",
    "    pound=float(l1_value.get())*2.204623\n",
    "    ounce=float(l1_value.get())*35.273962\n",
    "    tonn=float(l1_value.get())*0.001\n",
    "    cg=float(l1_value.get())*100000\n",
    "    t1.delete(\"1.0\",END)\n",
    "    t1.insert(END,grm)\n",
    "    t2.delete(\"1.0\",END)\n",
    "    t2.insert(END,pound)\n",
    "    t3.delete(\"1.0\",END)\n",
    "    t3.insert(END,ounce)\n",
    "    t4.delete(\"1.0\",END)\n",
    "    t4.insert(END,tonn)\n",
    "    t5.delete(\"1.0\",END)\n",
    "    t5.insert(END,cg)\n",
    "\n",
    "#creating Label widget\n",
    "l=Label(w,text=\"Welcome to Convertor\",font=\"Arial\", bg=\"Red\")\n",
    "l1=Label(w,text=\"Enter weight in kg\")\n",
    "l1_value=StringVar()\n",
    "s2=Entry(w,textvariable=l1_value)\n",
    "l2=Label(w,text=\"grams\")\n",
    "l3=Label(w,text=\"pounds\")\n",
    "l4=Label(w,text=\"ounce\")\n",
    "l5=Label(w,text=\"tonn\")\n",
    "l6=Label(w,text=\"cg\")\n",
    "\n",
    "#creating Textbox Widget\n",
    "t1=Text(w,width=10,height=1)\n",
    "t2=Text(w,width=10,height=1)\n",
    "t3=Text(w,width=10,height=1)\n",
    "t4=Text(w,width=10,height=1)\n",
    "t5=Text(w,width=10,height=1)\n",
    "\n",
    "#creating Button Widget\n",
    "b1=Button(w,text=\"Convert\",command=Convert_kg_to)\n",
    "\n",
    "\n",
    "#Organising widget on windows using grid()\n",
    "l.grid(row=0,column=2)\n",
    "s2.grid(row=1,column=1)\n",
    "l1.grid(row=1,column=0)\n",
    "l2.grid(row=3,column=0)\n",
    "l3.grid(row=3,column=1)\n",
    "l4.grid(row=3,column=2)\n",
    "l5.grid(row=3,column=3)\n",
    "l6.grid(row=3,column=4)\n",
    "t1.grid(row=4,column=0)\n",
    "t2.grid(row=4,column=1)\n",
    "t3.grid(row=4,column=2)\n",
    "t4.grid(row=4,column=3)\n",
    "t5.grid(row=4,column=4)\n",
    "b1.grid(row=1,column=4)\n",
    "\n",
    "w.mainloop()    #tells Python to run the Tkinter event loop."
   ]
  },
  {
   "cell_type": "code",
   "execution_count": null,
   "metadata": {},
   "outputs": [],
   "source": []
  }
 ],
 "metadata": {
  "kernelspec": {
   "display_name": "Python 3",
   "language": "python",
   "name": "python3"
  },
  "language_info": {
   "codemirror_mode": {
    "name": "ipython",
    "version": 3
   },
   "file_extension": ".py",
   "mimetype": "text/x-python",
   "name": "python",
   "nbconvert_exporter": "python",
   "pygments_lexer": "ipython3",
   "version": "3.8.5"
  }
 },
 "nbformat": 4,
 "nbformat_minor": 4
}
