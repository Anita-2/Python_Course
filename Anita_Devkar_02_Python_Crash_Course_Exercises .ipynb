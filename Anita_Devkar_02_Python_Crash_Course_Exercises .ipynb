{
  "cells": [
    {
      "cell_type": "markdown",
      "source": [
        "**Ms. Anita L. Devkar**\n",
        "\n",
        "Please find Exercise Solution Below"
      ],
      "metadata": {
        "id": "rikHSwIPUnS1"
      }
    },
    {
      "cell_type": "markdown",
      "metadata": {
        "id": "xBGUpw8-QJtx"
      },
      "source": [
        "## Exercises\n",
        "\n",
        "Answer the questions or complete the tasks outlined in bold below, use the specific method described if applicable."
      ]
    },
    {
      "cell_type": "markdown",
      "metadata": {
        "id": "Tu4Ttsj0QJtz"
      },
      "source": [
        "** What is 7 to the power of 4?**"
      ]
    },
    {
      "cell_type": "code",
      "execution_count": null,
      "metadata": {
        "id": "cWIR4g_uQJt0",
        "outputId": "6b591b5b-69da-4766-e133-11d69552b516",
        "colab": {
          "base_uri": "https://localhost:8080/"
        }
      },
      "outputs": [
        {
          "output_type": "stream",
          "name": "stdout",
          "text": [
            "2401\n"
          ]
        }
      ],
      "source": [
        "7**4\n",
        "print(7**4)"
      ]
    },
    {
      "cell_type": "markdown",
      "metadata": {
        "id": "9elwvS6QQJt3"
      },
      "source": [
        "** Split this string:**\n",
        "\n",
        "    s = \"Hi there Yogesh!\"\n",
        "    \n",
        "**into a list. **"
      ]
    },
    {
      "cell_type": "code",
      "execution_count": null,
      "metadata": {
        "id": "gU_HvNsPQJt5"
      },
      "outputs": [],
      "source": [
        "s = \"Hi there Yogesh!\"      "
      ]
    },
    {
      "cell_type": "code",
      "execution_count": null,
      "metadata": {
        "id": "56HyQIsxQJt5",
        "outputId": "947160c1-fc50-48f9-8709-eb315c53bc21",
        "colab": {
          "base_uri": "https://localhost:8080/"
        }
      },
      "outputs": [
        {
          "output_type": "stream",
          "name": "stdout",
          "text": [
            "['Hi', 'there', 'Yogesh!']\n"
          ]
        }
      ],
      "source": [
        "x=s.split(' ')                    #split() is used for splitting \n",
        "print(x)"
      ]
    },
    {
      "cell_type": "code",
      "source": [
        "s.split()             #another solution"
      ],
      "metadata": {
        "colab": {
          "base_uri": "https://localhost:8080/"
        },
        "id": "n_NDgkuOfd5l",
        "outputId": "b270cc3c-3870-4cee-da83-95f9119e2fdb"
      },
      "execution_count": null,
      "outputs": [
        {
          "output_type": "execute_result",
          "data": {
            "text/plain": [
              "['Hi', 'there', 'Yogesh!']"
            ]
          },
          "metadata": {},
          "execution_count": 23
        }
      ]
    },
    {
      "cell_type": "markdown",
      "metadata": {
        "id": "XAShUFRpQJt7"
      },
      "source": [
        "** Given the variables:**\n",
        "\n",
        "    planet = \"Earth\"\n",
        "    diameter = 12742\n",
        "\n",
        "** Use .format() to print the following string: **\n",
        "\n",
        "    The diameter of Earth is 12742 kilometers."
      ]
    },
    {
      "cell_type": "code",
      "execution_count": null,
      "metadata": {
        "id": "LU3iNVUIQJt9",
        "colab": {
          "base_uri": "https://localhost:8080/"
        },
        "outputId": "f6d6f6ba-0ccc-473a-f3ff-c68f9661ed3d"
      },
      "outputs": [
        {
          "output_type": "stream",
          "name": "stdout",
          "text": [
            "The diameter of Earth is 12742 kilometers.\n"
          ]
        }
      ],
      "source": [
        "planet = \"Earth\"\n",
        "diameter = 12742\n",
        "print('The diameter of {} is {} kilometers.'.format(planet,diameter))"
      ]
    },
    {
      "cell_type": "markdown",
      "metadata": {
        "id": "ughIjEVmQJuA"
      },
      "source": [
        "** Given this nested list, use indexing to grab the word \"hello\" **"
      ]
    },
    {
      "cell_type": "code",
      "execution_count": null,
      "metadata": {
        "id": "CICK3SenQJuB"
      },
      "outputs": [],
      "source": [
        "lst = [1,2,[3,4],[5,[100,200,['hello']],23,11],1,7]"
      ]
    },
    {
      "cell_type": "code",
      "execution_count": null,
      "metadata": {
        "id": "OoU4QQvJQJuC",
        "outputId": "ce9c8111-948d-4a8d-bec2-bb7354c0cedd",
        "colab": {
          "base_uri": "https://localhost:8080/"
        }
      },
      "outputs": [
        {
          "output_type": "execute_result",
          "data": {
            "text/plain": [
              "['hello']"
            ]
          },
          "metadata": {},
          "execution_count": 18
        }
      ],
      "source": [
        "lst[3][1][2]"
      ]
    },
    {
      "cell_type": "code",
      "execution_count": null,
      "metadata": {
        "id": "bzy0iB1gQJuD",
        "outputId": "f2e0692a-1b4b-4fe2-b211-60a643cea0c2",
        "colab": {
          "base_uri": "https://localhost:8080/"
        }
      },
      "outputs": [
        {
          "output_type": "stream",
          "name": "stdout",
          "text": [
            "hello\n"
          ]
        }
      ],
      "source": [
        "print(lst[3][1][2][0])"
      ]
    },
    {
      "cell_type": "markdown",
      "metadata": {
        "id": "KvZZ9uOAQJuD"
      },
      "source": [
        "** Given this nested dictionary grab the word \"hello\". Be prepared, this will be annoying/tricky **"
      ]
    },
    {
      "cell_type": "code",
      "execution_count": null,
      "metadata": {
        "id": "6UYjb58KQJuE"
      },
      "outputs": [],
      "source": [
        "d = {'k1':[1,2,3,{'tricky':['oh','man','inception',{'target':[1,2,3,'hello']}]}]}"
      ]
    },
    {
      "cell_type": "code",
      "execution_count": null,
      "metadata": {
        "id": "qEHcy_WhQJuE",
        "outputId": "9e3f0ba8-2d7f-4ecb-cce0-2f82642d3f17",
        "colab": {
          "base_uri": "https://localhost:8080/",
          "height": 35
        }
      },
      "outputs": [
        {
          "output_type": "execute_result",
          "data": {
            "text/plain": [
              "'hello'"
            ],
            "application/vnd.google.colaboratory.intrinsic+json": {
              "type": "string"
            }
          },
          "metadata": {},
          "execution_count": 21
        }
      ],
      "source": [
        "d['k1'][3]['tricky'][3]['target'][3]"
      ]
    },
    {
      "cell_type": "markdown",
      "metadata": {
        "id": "2K65VtFZQJuF"
      },
      "source": [
        "** What is the main difference between a tuple and a list? **"
      ]
    },
    {
      "cell_type": "code",
      "execution_count": null,
      "metadata": {
        "collapsed": true,
        "id": "bybmMa7sQJuF"
      },
      "outputs": [],
      "source": [
        "# Tuples are immutable while lists are mutable\n",
        "#Tuples are more memory efficient than the lists.\n",
        "#when we considered time efficiency factor so again tuple is better than list"
      ]
    },
    {
      "cell_type": "markdown",
      "metadata": {
        "id": "YlhiTKVdQJuG"
      },
      "source": [
        "** Create a function that grabs the email website domain from a string in the form: **\n",
        "\n",
        "    user@domain.com\n",
        "    \n",
        "**So for example, passing \"user@domain.com\" would return: domain.com**"
      ]
    },
    {
      "cell_type": "code",
      "execution_count": null,
      "metadata": {
        "id": "97fbiFEDQJuH"
      },
      "outputs": [],
      "source": [
        "def getdomainfunc(email):                       #function defination\n",
        "    return email.split('@')[1]"
      ]
    },
    {
      "cell_type": "code",
      "execution_count": null,
      "metadata": {
        "id": "Ntnzy8_WQJuH",
        "outputId": "c1a73db2-94a0-44b4-b388-8c5dde803f8d",
        "colab": {
          "base_uri": "https://localhost:8080/",
          "height": 35
        }
      },
      "outputs": [
        {
          "output_type": "execute_result",
          "data": {
            "text/plain": [
              "'domain.com'"
            ],
            "application/vnd.google.colaboratory.intrinsic+json": {
              "type": "string"
            }
          },
          "metadata": {},
          "execution_count": 26
        }
      ],
      "source": [
        "getdomainfunc('user@domain.com')       #Function calling"
      ]
    },
    {
      "cell_type": "code",
      "source": [
        "getdomainfunc('anitadevkar@gmail.com')"
      ],
      "metadata": {
        "colab": {
          "base_uri": "https://localhost:8080/",
          "height": 35
        },
        "id": "XUrnHb1Fhig9",
        "outputId": "1d244fa8-c294-4e26-8dcd-aa7cdd68bba9"
      },
      "execution_count": null,
      "outputs": [
        {
          "output_type": "execute_result",
          "data": {
            "text/plain": [
              "'gmail.com'"
            ],
            "application/vnd.google.colaboratory.intrinsic+json": {
              "type": "string"
            }
          },
          "metadata": {},
          "execution_count": 27
        }
      ]
    },
    {
      "cell_type": "markdown",
      "metadata": {
        "id": "gwiE_tcKQJuH"
      },
      "source": [
        "** Create a basic function that returns True if the word 'dog' is contained in the input string. Don't worry about edge cases like a punctuation being attached to the word dog, but do account for capitalization. **"
      ]
    },
    {
      "cell_type": "code",
      "execution_count": null,
      "metadata": {
        "collapsed": true,
        "id": "D-R4e4EnQJuI"
      },
      "outputs": [],
      "source": [
        "def searchdog(input):\n",
        "  return 'dog' in input.lower()"
      ]
    },
    {
      "cell_type": "code",
      "execution_count": null,
      "metadata": {
        "id": "2b4jgFPOQJuI",
        "outputId": "4ec55231-bbc7-478f-8825-d7c781f6b978",
        "colab": {
          "base_uri": "https://localhost:8080/"
        }
      },
      "outputs": [
        {
          "output_type": "execute_result",
          "data": {
            "text/plain": [
              "True"
            ]
          },
          "metadata": {},
          "execution_count": 32
        }
      ],
      "source": [
        "searchdog('Is there a dog here?')"
      ]
    },
    {
      "cell_type": "markdown",
      "metadata": {
        "id": "w3UV5uuaQJuJ"
      },
      "source": [
        "** Create a function that counts the number of times the word \"dog\" occurs in a string. Again ignore edge cases. **"
      ]
    },
    {
      "cell_type": "code",
      "execution_count": null,
      "metadata": {
        "id": "5oMhr3-qQJuJ"
      },
      "outputs": [],
      "source": [
        "def countDog(input):\n",
        "    count = 0\n",
        "    for i in input.lower().split():\n",
        "        if i == 'dog':\n",
        "            count += 1\n",
        "    return count\n"
      ]
    },
    {
      "cell_type": "code",
      "execution_count": null,
      "metadata": {
        "id": "1HxTPIaLQJuJ",
        "outputId": "749d7f06-694f-4c9b-91a0-70aeccb27da9",
        "colab": {
          "base_uri": "https://localhost:8080/"
        }
      },
      "outputs": [
        {
          "output_type": "execute_result",
          "data": {
            "text/plain": [
              "2"
            ]
          },
          "metadata": {},
          "execution_count": 44
        }
      ],
      "source": [
        "countDog('This dog runs faster than the other dog dude!')"
      ]
    },
    {
      "cell_type": "markdown",
      "metadata": {
        "id": "ncs1mE9SQJuK"
      },
      "source": [
        "** Use lambda expressions and the filter() function to filter out words from a list that don't start with the letter 's'. For example:**\n",
        "\n",
        "    seq = ['soup','dog','salad','cat','great']\n",
        "\n",
        "**should be filtered down to:**\n",
        "\n",
        "    ['soup','salad']"
      ]
    },
    {
      "cell_type": "code",
      "execution_count": null,
      "metadata": {
        "collapsed": true,
        "id": "DFR_5vgPQJuL"
      },
      "outputs": [],
      "source": [
        "seq = ['soup','dog','salad','cat','great']"
      ]
    },
    {
      "cell_type": "code",
      "execution_count": null,
      "metadata": {
        "id": "IbPc-SK-QJuL",
        "outputId": "1312c959-ea0f-4093-8730-fe73ddd47017",
        "colab": {
          "base_uri": "https://localhost:8080/"
        }
      },
      "outputs": [
        {
          "output_type": "execute_result",
          "data": {
            "text/plain": [
              "['soup', 'salad']"
            ]
          },
          "metadata": {},
          "execution_count": 54
        }
      ],
      "source": [
        "list(filter(lambda x: x[0]=='s',seq))"
      ]
    },
    {
      "cell_type": "markdown",
      "metadata": {
        "id": "WZB9cYH-QJuM"
      },
      "source": [
        "### Final Problem\n",
        "**You are driving a little too fast, and a police officer stops you. Write a function\n",
        "  to return one of 3 possible results: \"No ticket\", \"Small ticket\", or \"Big Ticket\". \n",
        "  If your speed is 60 or less, the result is \"No Ticket\". If speed is between 61 \n",
        "  and 80 inclusive, the result is \"Small Ticket\". If speed is 81 or more, the result is \"Big    Ticket\". Unless it is your birthday (encoded as a boolean value in the parameters of the function) -- on your birthday, your speed can be 5 higher in all \n",
        "  cases. **"
      ]
    },
    {
      "cell_type": "code",
      "execution_count": null,
      "metadata": {
        "collapsed": true,
        "id": "MF56ggOQQJuM"
      },
      "outputs": [],
      "source": [
        "def caught_speeding(speed, is_birthday):\n",
        "    \n",
        "    if is_birthday:\n",
        "        spiding = speed - 5\n",
        "    else:\n",
        "        spiding = speed\n",
        "    \n",
        "    if spiding > 80:\n",
        "        return 'Big Ticket'\n",
        "    elif spiding > 60:\n",
        "        return 'Small Ticket'\n",
        "    else:\n",
        "        return 'No Ticket'"
      ]
    },
    {
      "cell_type": "code",
      "execution_count": null,
      "metadata": {
        "id": "3QU9IrRmQJuN",
        "outputId": "f6e02542-85e6-44e3-d49a-d53157c97209",
        "colab": {
          "base_uri": "https://localhost:8080/",
          "height": 35
        }
      },
      "outputs": [
        {
          "output_type": "execute_result",
          "data": {
            "text/plain": [
              "'Small Ticket'"
            ],
            "application/vnd.google.colaboratory.intrinsic+json": {
              "type": "string"
            }
          },
          "metadata": {},
          "execution_count": 56
        }
      ],
      "source": [
        "caught_speeding(81,True)"
      ]
    },
    {
      "cell_type": "code",
      "execution_count": null,
      "metadata": {
        "id": "1lsXiwFSQJuO",
        "outputId": "13d3095c-5853-4b43-8a4e-ac21cfb0af98",
        "colab": {
          "base_uri": "https://localhost:8080/",
          "height": 35
        }
      },
      "outputs": [
        {
          "output_type": "execute_result",
          "data": {
            "text/plain": [
              "'Big Ticket'"
            ],
            "application/vnd.google.colaboratory.intrinsic+json": {
              "type": "string"
            }
          },
          "metadata": {},
          "execution_count": 57
        }
      ],
      "source": [
        "caught_speeding(81,False)"
      ]
    },
    {
      "cell_type": "code",
      "execution_count": null,
      "metadata": {
        "id": "8Ckci1sCQJuO"
      },
      "outputs": [],
      "source": [
        "Question\n",
        "Given a string print number num by extracting all the\n",
        "digits from the string as in string\n",
        "Print negative number if the first character in \n",
        "string is '-'\n",
        "eg.\n",
        "-123abcd should return -123,abcd456-->456,fdhfh78dsd89--->7889,-56dssd78-->-5678"
      ]
    },
    {
      "cell_type": "code",
      "source": [
        "input_string =input('Enter the string')\n",
        "temp_str = \"\"\n",
        "for m in input_string:\n",
        "    if m.isdigit():\n",
        "        temp_str = temp_str + m\n",
        "print(\"Find numbers from string:\",temp_str) \n"
      ],
      "metadata": {
        "colab": {
          "base_uri": "https://localhost:8080/"
        },
        "id": "QzrCGzQu2zL4",
        "outputId": "78d6ebf4-06d3-4086-cc3b-880389944e01"
      },
      "execution_count": 70,
      "outputs": [
        {
          "output_type": "stream",
          "name": "stdout",
          "text": [
            "Enter the string-123abcd\n",
            "Find numbers from string: 123\n"
          ]
        }
      ]
    },
    {
      "cell_type": "code",
      "execution_count": null,
      "metadata": {
        "id": "Aoj2DERXQJuP"
      },
      "outputs": [],
      "source": [
        "Q2\n",
        "WAP to check whether a number is palindrome or not on following conditions.\n",
        "1. take input number\n",
        "2. add number and its reverse\n",
        "3. check that number is palindrome or not,if not then sum and its reverse"
      ]
    },
    {
      "cell_type": "code",
      "source": [
        "n=int(input(\"Enter number:\"))\n",
        "temp=n\n",
        "rev=0\n",
        "sum=0\n",
        "while(n>0):\n",
        "    dig=n%10\n",
        "    rev=rev*10+dig\n",
        "    sum=sum+dig\n",
        "    n=n//10\n",
        "if(temp==rev):\n",
        "    print(\"The number is a palindrome!\")\n",
        "else:\n",
        "    print('Number reverse is {one} and number sum is {two}'.format(one=rev,two=sum))\n",
        "\n",
        "   \n"
      ],
      "metadata": {
        "colab": {
          "base_uri": "https://localhost:8080/"
        },
        "id": "y-uuIFsDx3ux",
        "outputId": "4df49a80-e9d2-469a-cf4a-ef8cf95c087c"
      },
      "execution_count": null,
      "outputs": [
        {
          "output_type": "stream",
          "name": "stdout",
          "text": [
            "Enter number:345\n",
            "Number reverse is 543 and number sum is 12\n"
          ]
        }
      ]
    },
    {
      "cell_type": "markdown",
      "source": [
        "**Output1:**\n",
        "\n",
        "Enter number:121\n",
        "\n",
        "The number is a palindrome!\n",
        "\n",
        "**Output2:** \n",
        "\n",
        "Enter number:345\n",
        "\n",
        "Number reverse is 543 and number sum is 12"
      ],
      "metadata": {
        "id": "2IAbyMHJ7IcP"
      }
    },
    {
      "cell_type": "code",
      "execution_count": null,
      "metadata": {
        "id": "82LZn3ZNQJuP"
      },
      "outputs": [],
      "source": [
        "Write a python function to find and display the five \n",
        "digit number in which the first digit is two more than \n",
        "the second,the second digit is two more than the third,\n",
        "the fourth digit is two less than the third, and the \n",
        "last digit is two more than the fourth.The sum of the third,fourth and fifth digits\n",
        "equals the first.The sum of all the digits is 19"
      ]
    },
    {
      "cell_type": "code",
      "execution_count": null,
      "metadata": {
        "id": "z1mWzCN4QJuQ",
        "colab": {
          "base_uri": "https://localhost:8080/"
        },
        "outputId": "7463a40e-6011-4afa-ebfd-37bf20a288e1"
      },
      "outputs": [
        {
          "output_type": "stream",
          "name": "stdout",
          "text": [
            "75313\n"
          ]
        }
      ],
      "source": [
        "def find_five_digit():\n",
        "   for i in range(10,0,-1):\n",
        "       first=i\n",
        "       second = i-2\n",
        "       third=i-4\n",
        "       fourth=i-6\n",
        "       fifth=i-4   \n",
        "       if third+fourth+fifth==first:\n",
        "           if (first+second+third+fourth+fifth)==19:\n",
        "               return(int(str(first)+str(second)+str(third)+str(fourth)+str(fifth)))\n",
        "print(find_five_digit())   \n",
        "#print(7+5+3+1+3) "
      ]
    }
  ],
  "metadata": {
    "kernelspec": {
      "display_name": "Python 3",
      "language": "python",
      "name": "python3"
    },
    "language_info": {
      "codemirror_mode": {
        "name": "ipython",
        "version": 3
      },
      "file_extension": ".py",
      "mimetype": "text/x-python",
      "name": "python",
      "nbconvert_exporter": "python",
      "pygments_lexer": "ipython3",
      "version": "3.7.3"
    },
    "colab": {
      "name": "Anita Devkar-02-Python Crash Course Exercises.ipynb",
      "provenance": [],
      "collapsed_sections": []
    }
  },
  "nbformat": 4,
  "nbformat_minor": 0
}